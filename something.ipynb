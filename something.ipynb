{
 "cells": [
  {
   "cell_type": "code",
   "execution_count": 3,
   "metadata": {},
   "outputs": [
    {
     "name": "stdin",
     "output_type": "stream",
     "text": [
      "Enter a name: Connor\n",
      "Enter a food: Pizza\n"
     ]
    },
    {
     "name": "stdout",
     "output_type": "stream",
     "text": [
      "This is how your name, Connor, and your favorite food, Pizza, look when mashed togetherCPCiCzCzCaoPoiozozoanPninznznanPninznznaoPoiozozoarPrirzrzra\n"
     ]
    }
   ],
   "source": [
    "name = input(prompt=\"Enter a name:\")\n",
    "food = input(prompt=\"Enter a food:\")\n",
    "what = \"\"\n",
    "for i in name:\n",
    "    for j in food:\n",
    "        what = what + i + j\n",
    "print(\"This is how your name, \" + name + \", and your favorite food, \" + food + \", look when mashed together \" + what)"
   ]
  },
  {
   "cell_type": "code",
   "execution_count": null,
   "metadata": {},
   "outputs": [],
   "source": []
  }
 ],
 "metadata": {
  "kernelspec": {
   "display_name": "Python 3",
   "language": "python",
   "name": "python3"
  },
  "language_info": {
   "codemirror_mode": {
    "name": "ipython",
    "version": 3
   },
   "file_extension": ".py",
   "mimetype": "text/x-python",
   "name": "python",
   "nbconvert_exporter": "python",
   "pygments_lexer": "ipython3",
   "version": "3.8.3"
  }
 },
 "nbformat": 4,
 "nbformat_minor": 4
}
